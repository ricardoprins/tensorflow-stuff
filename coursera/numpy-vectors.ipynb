{
 "metadata": {
  "language_info": {
   "codemirror_mode": {
    "name": "ipython",
    "version": 3
   },
   "file_extension": ".py",
   "mimetype": "text/x-python",
   "name": "python",
   "nbconvert_exporter": "python",
   "pygments_lexer": "ipython3",
   "version": "3.8.5-final"
  },
  "orig_nbformat": 2,
  "kernelspec": {
   "name": "python_defaultSpec_1599703934604",
   "display_name": "Python 3.8.5 64-bit ('env': venv)"
  }
 },
 "nbformat": 4,
 "nbformat_minor": 2,
 "cells": [
  {
   "cell_type": "markdown",
   "metadata": {},
   "source": [
    "Simple tip to avoid problems with data structures due to the broadcasting features in numpy/python"
   ]
  },
  {
   "cell_type": "code",
   "execution_count": 1,
   "metadata": {},
   "outputs": [],
   "source": [
    "import numpy as np\n",
    "\n",
    "a = np.random.randn(5) # rank 1 array"
   ]
  },
  {
   "cell_type": "code",
   "execution_count": 2,
   "metadata": {
    "tags": []
   },
   "outputs": [
    {
     "output_type": "stream",
     "name": "stdout",
     "text": "[ 0.76042607 -0.84843412 -0.60582303  0.34536481 -1.50205693]\n"
    }
   ],
   "source": [
    "print(a)"
   ]
  },
  {
   "cell_type": "code",
   "execution_count": 3,
   "metadata": {
    "tags": []
   },
   "outputs": [
    {
     "output_type": "stream",
     "name": "stdout",
     "text": "(5,)\n"
    }
   ],
   "source": [
    "print(a.shape)"
   ]
  },
  {
   "cell_type": "code",
   "execution_count": 4,
   "metadata": {
    "tags": []
   },
   "outputs": [
    {
     "output_type": "stream",
     "name": "stdout",
     "text": "[ 0.76042607 -0.84843412 -0.60582303  0.34536481 -1.50205693]\n"
    }
   ],
   "source": [
    "print(a.T) # bad!"
   ]
  },
  {
   "cell_type": "code",
   "execution_count": 5,
   "metadata": {
    "tags": []
   },
   "outputs": [
    {
     "output_type": "stream",
     "name": "stdout",
     "text": "4.040561696482466\n"
    }
   ],
   "source": [
    "print(a @ a.T)"
   ]
  },
  {
   "cell_type": "code",
   "execution_count": 7,
   "metadata": {
    "tags": []
   },
   "outputs": [
    {
     "output_type": "stream",
     "name": "stdout",
     "text": "[[ 1.52295826]\n [ 2.03937525]\n [ 1.08977057]\n [-0.0792763 ]\n [ 0.5705144 ]]\n"
    }
   ],
   "source": [
    "a = np.random.randn(5,1)\n",
    "print(a)"
   ]
  },
  {
   "cell_type": "code",
   "execution_count": 8,
   "metadata": {
    "tags": []
   },
   "outputs": [
    {
     "output_type": "stream",
     "name": "stdout",
     "text": "[[ 1.52295826  2.03937525  1.08977057 -0.0792763   0.5705144 ]]\n"
    }
   ],
   "source": [
    "print(a.T)"
   ]
  },
  {
   "cell_type": "code",
   "execution_count": 9,
   "metadata": {
    "tags": []
   },
   "outputs": [
    {
     "output_type": "stream",
     "name": "stdout",
     "text": "[[ 2.31940185  3.10588338  1.65967508 -0.12073449  0.86886962]\n [ 3.10588338  4.15905141  2.22245113 -0.16167411  1.16349295]\n [ 1.65967508  2.22245113  1.18759989 -0.08639297  0.6217298 ]\n [-0.12073449 -0.16167411 -0.08639297  0.00628473 -0.04522827]\n [ 0.86886962  1.16349295  0.6217298  -0.04522827  0.32548668]]\n"
    }
   ],
   "source": [
    "print(a @ a.T)"
   ]
  }
 ]
}